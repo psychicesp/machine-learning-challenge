{
 "cells": [
  {
   "cell_type": "code",
   "execution_count": 1,
   "metadata": {},
   "outputs": [],
   "source": [
    "import pickle\n",
    "import pandas as pd\n",
    "import numpy as np\n",
    "from sklearn.ensemble import VotingClassifier"
   ]
  },
  {
   "cell_type": "code",
   "execution_count": 2,
   "metadata": {},
   "outputs": [],
   "source": [
    "with open('pickle_jar/ensemble_split.pickle', 'rb') as dill:\n",
    "    X_train, y_train, X_test, y_test = pickle.load(dill)\n",
    "\n",
    "with open('pickle_jar/logi_model.pickle', 'rb') as kosher_dill:\n",
    "   logi_model = pickle.load(kosher_dill)\n",
    "\n",
    "with open('pickle_jar/svc_model.pickle', 'rb') as bread_butter:\n",
    "    svc_model = pickle.load(bread_butter)\n",
    "\n",
    "with open('pickle_jar/rf_model.pickle', 'rb') as spicy:\n",
    "    rf_model = pickle.load(spicy)"
   ]
  },
  {
   "cell_type": "markdown",
   "metadata": {},
   "source": [
    "# Train the Model\n",
    "\n"
   ]
  },
  {
   "cell_type": "code",
   "execution_count": 3,
   "metadata": {},
   "outputs": [],
   "source": [
    "### ESP - Model performs better without scaling\n",
    "combined_model = VotingClassifier(estimators=[\n",
    "        ('logi', logi_model), ('rf', rf_model), ('svc', svc_model)], voting='hard', n_jobs = -3)\n",
    "combined_model = combined_model.fit(X_train,y_train)\n",
    "\n",
    "print(f\"Training Data Score: {combined_model.score(X_train, y_train)}\")\n",
    "print(f\"Testing Data Score: {combined_model.score(X_test, y_test)}\")"
   ]
  },
  {
   "cell_type": "code",
   "execution_count": null,
   "metadata": {},
   "outputs": [],
   "source": [
    "with open('pickle_jar/combined_model.pickle', 'wb') as gherkin:\n",
    "    pickle.dump(combined_model,gherkin)\n"
   ]
  },
  {
   "cell_type": "code",
   "execution_count": null,
   "metadata": {},
   "outputs": [],
   "source": []
  }
 ],
 "metadata": {
  "kernel_info": {
   "name": "dev"
  },
  "kernelspec": {
   "name": "python3",
   "display_name": "Python 3",
   "language": "python"
  },
  "language_info": {
   "codemirror_mode": {
    "name": "ipython",
    "version": 3
   },
   "file_extension": ".py",
   "mimetype": "text/x-python",
   "name": "python",
   "nbconvert_exporter": "python",
   "pygments_lexer": "ipython3",
   "version": "3.8.5-final"
  },
  "nteract": {
   "version": "0.12.3"
  }
 },
 "nbformat": 4,
 "nbformat_minor": 2
}