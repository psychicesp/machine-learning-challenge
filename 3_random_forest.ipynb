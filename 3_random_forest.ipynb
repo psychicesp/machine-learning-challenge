{
 "cells": [
  {
   "cell_type": "code",
   "execution_count": 1,
   "metadata": {},
   "outputs": [],
   "source": [
    "import pickle\n",
    "import numpy as np\n",
    "import pandas as pd\n",
    "from sklearn.model_selection import train_test_split\n",
    "from sklearn.ensemble import RandomForestClassifier\n",
    "from sklearn.model_selection import GridSearchCV"
   ]
  },
  {
   "cell_type": "code",
   "execution_count": 2,
   "metadata": {},
   "outputs": [],
   "source": [
    "\n",
    "with open('pickle_jar/split_data.pickle', 'rb') as kosher_dill:\n",
    "    X_train_minmax, X_hp_train_minmax, X_test_minmax, y_train,y_hp_train, y_test = pickle.load(kosher_dill)"
   ]
  },
  {
   "cell_type": "markdown",
   "metadata": {},
   "source": [
    "# Train the Model\n",
    "\n"
   ]
  },
  {
   "cell_type": "code",
   "execution_count": 3,
   "metadata": {},
   "outputs": [
    {
     "output_type": "stream",
     "name": "stdout",
     "text": [
      "Training Data Score: 1.0\nTesting Data Score: 0.9830348727615457\n"
     ]
    }
   ],
   "source": [
    "\n",
    "\n",
    "rf_model = RandomForestClassifier(n_estimators=200, random_state = 0, max_features = 'auto')\n",
    "rf_model = rf_model.fit(X_train_minmax,y_train)\n",
    "\n",
    "print(f\"Training Data Score: {rf_model.score(X_train_minmax, y_train)}\")\n",
    "print(f\"Testing Data Score: {rf_model.score(X_test_minmax, y_test)}\")"
   ]
  },
  {
   "cell_type": "code",
   "execution_count": 4,
   "metadata": {},
   "outputs": [],
   "source": [
    "param_grid = {\n",
    "    'max_depth': [2,4,6,8,10,20,40,60,80,100],\n",
    "    'min_samples_leaf': [1,2,3,10,20,30,40],\n",
    "    'min_samples_split': [1,3,5],\n",
    "    'n_estimators': [200,300,400,500,600,700,800,900,1000]\n",
    "}\n",
    "grid = GridSearchCV(rf_model, param_grid, verbose=3, cv = 7, n_jobs = -3)\n",
    "#grid.fit(X_hp_train_minmax, y_hp_train)"
   ]
  },
  {
   "cell_type": "code",
   "execution_count": 5,
   "metadata": {},
   "outputs": [
    {
     "output_type": "error",
     "ename": "AttributeError",
     "evalue": "'GridSearchCV' object has no attribute 'best_params_'",
     "traceback": [
      "\u001b[1;31m---------------------------------------------------------------------------\u001b[0m",
      "\u001b[1;31mAttributeError\u001b[0m                            Traceback (most recent call last)",
      "\u001b[1;32m<ipython-input-5-3d7817c5d645>\u001b[0m in \u001b[0;36m<module>\u001b[1;34m\u001b[0m\n\u001b[1;32m----> 1\u001b[1;33m \u001b[0mprint\u001b[0m\u001b[1;33m(\u001b[0m\u001b[0mgrid\u001b[0m\u001b[1;33m.\u001b[0m\u001b[0mbest_params_\u001b[0m\u001b[1;33m)\u001b[0m\u001b[1;33m\u001b[0m\u001b[1;33m\u001b[0m\u001b[0m\n\u001b[0m\u001b[0;32m      2\u001b[0m \u001b[0mprint\u001b[0m\u001b[1;33m(\u001b[0m\u001b[0mgrid\u001b[0m\u001b[1;33m.\u001b[0m\u001b[0mbest_score_\u001b[0m\u001b[1;33m)\u001b[0m\u001b[1;33m\u001b[0m\u001b[1;33m\u001b[0m\u001b[0m\n",
      "\u001b[1;31mAttributeError\u001b[0m: 'GridSearchCV' object has no attribute 'best_params_'"
     ]
    }
   ],
   "source": [
    "#print(grid.best_params_)\n",
    "#print(grid.best_score_)"
   ]
  },
  {
   "cell_type": "code",
   "execution_count": 6,
   "metadata": {},
   "outputs": [
    {
     "output_type": "stream",
     "name": "stdout",
     "text": [
      "Training Data Score: 1.0\nTesting Data Score: 0.9830348727615457\n"
     ]
    }
   ],
   "source": [
    "rf_model = RandomForestClassifier(n_estimators=400, max_depth = 10, min_samples_leaf = 1, min_samples_split = 3, random_state = 0)\n",
    "rf_model = rf_model.fit(X_train_minmax,y_train)\n",
    "\n",
    "print(f\"Training Data Score: {rf_model.score(X_train_minmax, y_train)}\")\n",
    "print(f\"Testing Data Score: {rf_model.score(X_test_minmax, y_test)}\")"
   ]
  },
  {
   "cell_type": "code",
   "execution_count": 7,
   "metadata": {},
   "outputs": [],
   "source": [
    "import pickle\n",
    "\n",
    "with open('pickle_jar/rf_model.pickle', 'wb') as dill:\n",
    "    pickle.dump(rf_model,dill)"
   ]
  },
  {
   "cell_type": "code",
   "execution_count": 8,
   "metadata": {},
   "outputs": [],
   "source": [
    "with open('pickle_jar/unknown_df.pickle', 'rb') as relish:\n",
    "    unknown_df = pickle.load(relish)\n",
    "with open('pickle_jar/minmax_scaler.pickle', 'rb') as spears:\n",
    "    minmax_scaler = pickle.load(spears)"
   ]
  },
  {
   "cell_type": "code",
   "execution_count": 9,
   "metadata": {},
   "outputs": [],
   "source": [
    "unknown_df.drop('koi_disposition', axis = 1, inplace=True)\n",
    "minmaxed_unknown = minmax_scaler.transform(unknown_df)\n",
    "outcome = rf_model.predict(minmaxed_unknown)"
   ]
  },
  {
   "cell_type": "code",
   "execution_count": 17,
   "metadata": {},
   "outputs": [],
   "source": [
    "unknown_df['koi_disposition_prediction'] = outcome\n",
    "unknown_df['koi_disposition_prediction'].rename({\n",
    "    'FALSE POSITIVE':'Negative',\n",
    "    'Confirmed':'Positive'\n",
    "},inplace = True, axis = 'rows')"
   ]
  },
  {
   "cell_type": "code",
   "execution_count": 18,
   "metadata": {},
   "outputs": [],
   "source": [
    "unknown_df.to_csv('predicted.csv')"
   ]
  },
  {
   "cell_type": "code",
   "execution_count": 25,
   "metadata": {},
   "outputs": [
    {
     "output_type": "execute_result",
     "data": {
      "text/plain": [
       "array(['FALSE POSITIVE', 'FALSE POSITIVE', 'FALSE POSITIVE', ...,\n",
       "       'CONFIRMED', 'CONFIRMED', 'FALSE POSITIVE'], dtype=object)"
      ]
     },
     "metadata": {},
     "execution_count": 25
    }
   ],
   "source": []
  },
  {
   "cell_type": "code",
   "execution_count": null,
   "metadata": {},
   "outputs": [],
   "source": []
  }
 ],
 "metadata": {
  "kernel_info": {
   "name": "dev"
  },
  "kernelspec": {
   "name": "python3",
   "display_name": "Python 3",
   "language": "python"
  },
  "language_info": {
   "codemirror_mode": {
    "name": "ipython",
    "version": 3
   },
   "file_extension": ".py",
   "mimetype": "text/x-python",
   "name": "python",
   "nbconvert_exporter": "python",
   "pygments_lexer": "ipython3",
   "version": "3.8.5-final"
  },
  "nteract": {
   "version": "0.12.3"
  }
 },
 "nbformat": 4,
 "nbformat_minor": 2
}