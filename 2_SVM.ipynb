{
 "cells": [
  {
   "cell_type": "code",
   "execution_count": 1,
   "metadata": {},
   "outputs": [],
   "source": [
    "import pickle\n",
    "import pandas as pd\n",
    "from sklearn.model_selection import train_test_split\n",
    "from sklearn.linear_model import LogisticRegression\n",
    "from sklearn.svm import SVC \n",
    "from sklearn.model_selection import GridSearchCV"
   ]
  },
  {
   "cell_type": "code",
   "execution_count": 4,
   "metadata": {},
   "outputs": [],
   "source": [
    "\n",
    "with open('pickle_jar/split_data.pickle', 'rb') as kosher_dill:\n",
    "    X_train_minmax, X_hp_train_minmax, X_test_minmax, y_train,y_hp_train, y_test = pickle.load(kosher_dill)"
   ]
  },
  {
   "cell_type": "markdown",
   "metadata": {},
   "source": [
    "# Train the Model\n",
    "\n"
   ]
  },
  {
   "cell_type": "code",
   "execution_count": 5,
   "metadata": {},
   "outputs": [
    {
     "output_type": "stream",
     "name": "stdout",
     "text": [
      "Training Data Score: 0.9921408362150267\nTesting Data Score: 0.9868049010367578\n"
     ]
    }
   ],
   "source": [
    "\n",
    "svc_model = SVC()\n",
    "svc_model = svc_model.fit(X_train_minmax,y_train)\n",
    "\n",
    "print(f\"Training Data Score: {svc_model.score(X_train_minmax, y_train)}\")\n",
    "print(f\"Testing Data Score: {svc_model.score(X_test_minmax, y_test)}\")"
   ]
  },
  {
   "cell_type": "markdown",
   "metadata": {},
   "source": [
    "# Hyperparameter Tuning\n",
    "\n",
    "Use `GridSearchCV` to tune the model's parameters"
   ]
  },
  {
   "cell_type": "code",
   "execution_count": 6,
   "metadata": {},
   "outputs": [],
   "source": [
    "# Create the GridSearchCV model\n",
    "### ESP - High cv because scores are very close, and I want to make sure I get a representative average\n",
    "\n",
    "param_grid = {\n",
    "            'C': [125, 150, 175],\n",
    "            'gamma': [0.000001, 0.000005, 0.00001],\n",
    "            'degree': [1,2,3],\n",
    "            'tol': [0.01],\n",
    "            'kernel': ['linear']\n",
    "            }\n",
    "grid = GridSearchCV(svc_model, param_grid, verbose=3, cv = 7, n_jobs = -3)"
   ]
  },
  {
   "cell_type": "code",
   "execution_count": 7,
   "metadata": {
    "tags": []
   },
   "outputs": [
    {
     "output_type": "stream",
     "name": "stdout",
     "text": [
      "Fitting 7 folds for each of 27 candidates, totalling 189 fits\n",
      "[Parallel(n_jobs=-3)]: Using backend LokyBackend with 6 concurrent workers.\n",
      "[Parallel(n_jobs=-3)]: Done  20 tasks      | elapsed:    2.3s\n",
      "[Parallel(n_jobs=-3)]: Done 189 out of 189 | elapsed:    2.9s finished\n"
     ]
    },
    {
     "output_type": "execute_result",
     "data": {
      "text/plain": [
       "GridSearchCV(cv=7, estimator=SVC(), n_jobs=-3,\n",
       "             param_grid={'C': [125, 150, 175], 'degree': [1, 2, 3],\n",
       "                         'gamma': [1e-06, 5e-06, 1e-05], 'kernel': ['linear'],\n",
       "                         'tol': [0.01]},\n",
       "             verbose=3)"
      ]
     },
     "metadata": {},
     "execution_count": 7
    }
   ],
   "source": [
    "# Train the model with GridSearch\n",
    "grid.fit(X_hp_train_minmax, y_hp_train)"
   ]
  },
  {
   "cell_type": "code",
   "execution_count": 8,
   "metadata": {},
   "outputs": [
    {
     "output_type": "stream",
     "name": "stdout",
     "text": [
      "{'C': 125, 'degree': 1, 'gamma': 1e-06, 'kernel': 'linear', 'tol': 0.01}\n0.984925060996863\n"
     ]
    }
   ],
   "source": [
    "print(grid.best_params_)\n",
    "print(grid.best_score_)\n"
   ]
  },
  {
   "cell_type": "code",
   "execution_count": 10,
   "metadata": {},
   "outputs": [
    {
     "output_type": "stream",
     "name": "stdout",
     "text": [
      "Training Data Score: 0.9924552027664256\nTesting Data Score: 0.9886899151743638\n"
     ]
    }
   ],
   "source": [
    "svc_model = SVC(C= 120, degree= 1, gamma= 0.000001, kernel= 'linear', tol= 0.01)\n",
    "svc_model = svc_model.fit(X_train_minmax,y_train)\n",
    "\n",
    "print(f\"Training Data Score: {svc_model.score(X_train_minmax, y_train)}\")\n",
    "print(f\"Testing Data Score: {svc_model.score(X_test_minmax, y_test)}\")"
   ]
  },
  {
   "cell_type": "code",
   "execution_count": 11,
   "metadata": {},
   "outputs": [],
   "source": [
    "with open('pickle_jar/svc_model.pickle', 'wb') as dill:\n",
    "    pickle.dump(svc_model,dill)"
   ]
  },
  {
   "cell_type": "code",
   "execution_count": null,
   "metadata": {},
   "outputs": [],
   "source": []
  }
 ],
 "metadata": {
  "kernel_info": {
   "name": "dev"
  },
  "kernelspec": {
   "name": "python3",
   "display_name": "Python 3",
   "language": "python"
  },
  "language_info": {
   "codemirror_mode": {
    "name": "ipython",
    "version": 3
   },
   "file_extension": ".py",
   "mimetype": "text/x-python",
   "name": "python",
   "nbconvert_exporter": "python",
   "pygments_lexer": "ipython3",
   "version": "3.8.3-final"
  },
  "nteract": {
   "version": "0.12.3"
  }
 },
 "nbformat": 4,
 "nbformat_minor": 2
}