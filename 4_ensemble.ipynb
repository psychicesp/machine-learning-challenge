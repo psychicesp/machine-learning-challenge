{
 "cells": [
  {
   "cell_type": "code",
   "execution_count": 1,
   "metadata": {},
   "outputs": [],
   "source": [
    "import pickle\n",
    "import pandas as pd\n",
    "import numpy as np\n",
    "from sklearn.ensemble import VotingClassifier"
   ]
  },
  {
   "cell_type": "code",
   "execution_count": 6,
   "metadata": {},
   "outputs": [],
   "source": [
    "with open('pickle_jar/ensemble_split.pickle', 'rb') as dill:\n",
    "    X_train, X_test, y_train, y_test = pickle.load(dill)\n",
    "\n",
    "with open('pickle_jar/logi_model.pickle', 'rb') as kosher_dill:\n",
    "   logi_model = pickle.load(kosher_dill)\n",
    "\n",
    "with open('pickle_jar/svc_model.pickle', 'rb') as bread_butter:\n",
    "    svc_model = pickle.load(bread_butter)\n",
    "\n",
    "with open('pickle_jar/rf_model.pickle', 'rb') as spicy:\n",
    "    rf_model = pickle.load(spicy)\n",
    "\n",
    "with open('pickle_jar/minmax_scaler.pickle', 'rb') as sour_dill:\n",
    "    minmax_scaler = pickle.load(sour_dill)\n",
    "X_train = minmax_scaler.transform(X_train)\n",
    "X_test = minmax_scaler.transform(X_test)"
   ]
  },
  {
   "cell_type": "markdown",
   "metadata": {},
   "source": [
    "# Train the Model\n",
    "\n"
   ]
  },
  {
   "cell_type": "code",
   "execution_count": 7,
   "metadata": {},
   "outputs": [],
   "source": [
    "### ESP - Model performs better without scaling\n",
    "combined_model = VotingClassifier(estimators=[\n",
    "        ('logi', logi_model), ('rf', rf_model), ('svc', svc_model)], voting='hard', n_jobs = -3)\n",
    "combined_model = combined_model.fit(X_train,y_train)\n",
    "\n"
   ]
  },
  {
   "cell_type": "code",
   "execution_count": 8,
   "metadata": {},
   "outputs": [
    {
     "output_type": "stream",
     "name": "stdout",
     "text": [
      "Training Data Score: 0.9915134370579916\nTesting Data Score: 0.9877474081055608\n"
     ]
    }
   ],
   "source": [
    "print(f\"Training Data Score: {combined_model.score(X_train, y_train)}\")\n",
    "print(f\"Testing Data Score: {combined_model.score(X_test, y_test)}\")"
   ]
  },
  {
   "cell_type": "code",
   "execution_count": 17,
   "metadata": {},
   "outputs": [
    {
     "output_type": "execute_result",
     "data": {
      "text/plain": [
       "   koi_disposition  koi_fpflag_nt  koi_fpflag_ss  koi_fpflag_co  \\\n",
       "29       CANDIDATE              0              0              0   \n",
       "47       CANDIDATE              0              0              0   \n",
       "50       CANDIDATE              0              0              0   \n",
       "51       CANDIDATE              0              0              0   \n",
       "59       CANDIDATE              0              0              0   \n",
       "\n",
       "    koi_fpflag_ec  koi_period  koi_period_err1  koi_period_err2  koi_time0bk  \\\n",
       "29              0    4.959319     5.150000e-07    -5.150000e-07   172.258529   \n",
       "47              0   40.419504     1.139000e-04    -1.139000e-04   173.564690   \n",
       "50              0    7.240661     1.620000e-05    -1.620000e-05   137.755450   \n",
       "51              0    3.435916     4.730000e-05    -4.730000e-05   132.662400   \n",
       "59              0    1.626630     1.020000e-06    -1.020000e-06   169.820171   \n",
       "\n",
       "    koi_time0bk_err1  ...  koi_slogg  koi_slogg_err1  koi_slogg_err2  \\\n",
       "29          0.000083  ...      4.359           0.110          -0.110   \n",
       "47          0.002220  ...      4.507           0.116          -0.105   \n",
       "50          0.002000  ...      4.595           0.012          -0.064   \n",
       "51          0.011000  ...      4.339           0.132          -0.108   \n",
       "59          0.000487  ...      4.410           0.124          -0.186   \n",
       "\n",
       "    koi_srad  koi_srad_err1  koi_srad_err2         ra        dec  koi_kepmag  \\\n",
       "29     1.082          0.173         -0.130  292.16705  48.727589      15.263   \n",
       "47     0.781          0.116         -0.095  294.31686  50.080231      15.487   \n",
       "50     0.765          0.055         -0.028  293.83331  50.230350      15.334   \n",
       "51     1.087          0.157         -0.142  287.88733  46.276241      12.791   \n",
       "59     0.973          0.270         -0.145  294.36819  38.310280      15.279   \n",
       "\n",
       "    Prediction  \n",
       "29    Positive  \n",
       "47    Positive  \n",
       "50    Positive  \n",
       "51    Positive  \n",
       "59    Positive  \n",
       "\n",
       "[5 rows x 42 columns]"
      ],
      "text/html": "<div>\n<style scoped>\n    .dataframe tbody tr th:only-of-type {\n        vertical-align: middle;\n    }\n\n    .dataframe tbody tr th {\n        vertical-align: top;\n    }\n\n    .dataframe thead th {\n        text-align: right;\n    }\n</style>\n<table border=\"1\" class=\"dataframe\">\n  <thead>\n    <tr style=\"text-align: right;\">\n      <th></th>\n      <th>koi_disposition</th>\n      <th>koi_fpflag_nt</th>\n      <th>koi_fpflag_ss</th>\n      <th>koi_fpflag_co</th>\n      <th>koi_fpflag_ec</th>\n      <th>koi_period</th>\n      <th>koi_period_err1</th>\n      <th>koi_period_err2</th>\n      <th>koi_time0bk</th>\n      <th>koi_time0bk_err1</th>\n      <th>...</th>\n      <th>koi_slogg</th>\n      <th>koi_slogg_err1</th>\n      <th>koi_slogg_err2</th>\n      <th>koi_srad</th>\n      <th>koi_srad_err1</th>\n      <th>koi_srad_err2</th>\n      <th>ra</th>\n      <th>dec</th>\n      <th>koi_kepmag</th>\n      <th>Prediction</th>\n    </tr>\n  </thead>\n  <tbody>\n    <tr>\n      <th>29</th>\n      <td>CANDIDATE</td>\n      <td>0</td>\n      <td>0</td>\n      <td>0</td>\n      <td>0</td>\n      <td>4.959319</td>\n      <td>5.150000e-07</td>\n      <td>-5.150000e-07</td>\n      <td>172.258529</td>\n      <td>0.000083</td>\n      <td>...</td>\n      <td>4.359</td>\n      <td>0.110</td>\n      <td>-0.110</td>\n      <td>1.082</td>\n      <td>0.173</td>\n      <td>-0.130</td>\n      <td>292.16705</td>\n      <td>48.727589</td>\n      <td>15.263</td>\n      <td>Positive</td>\n    </tr>\n    <tr>\n      <th>47</th>\n      <td>CANDIDATE</td>\n      <td>0</td>\n      <td>0</td>\n      <td>0</td>\n      <td>0</td>\n      <td>40.419504</td>\n      <td>1.139000e-04</td>\n      <td>-1.139000e-04</td>\n      <td>173.564690</td>\n      <td>0.002220</td>\n      <td>...</td>\n      <td>4.507</td>\n      <td>0.116</td>\n      <td>-0.105</td>\n      <td>0.781</td>\n      <td>0.116</td>\n      <td>-0.095</td>\n      <td>294.31686</td>\n      <td>50.080231</td>\n      <td>15.487</td>\n      <td>Positive</td>\n    </tr>\n    <tr>\n      <th>50</th>\n      <td>CANDIDATE</td>\n      <td>0</td>\n      <td>0</td>\n      <td>0</td>\n      <td>0</td>\n      <td>7.240661</td>\n      <td>1.620000e-05</td>\n      <td>-1.620000e-05</td>\n      <td>137.755450</td>\n      <td>0.002000</td>\n      <td>...</td>\n      <td>4.595</td>\n      <td>0.012</td>\n      <td>-0.064</td>\n      <td>0.765</td>\n      <td>0.055</td>\n      <td>-0.028</td>\n      <td>293.83331</td>\n      <td>50.230350</td>\n      <td>15.334</td>\n      <td>Positive</td>\n    </tr>\n    <tr>\n      <th>51</th>\n      <td>CANDIDATE</td>\n      <td>0</td>\n      <td>0</td>\n      <td>0</td>\n      <td>0</td>\n      <td>3.435916</td>\n      <td>4.730000e-05</td>\n      <td>-4.730000e-05</td>\n      <td>132.662400</td>\n      <td>0.011000</td>\n      <td>...</td>\n      <td>4.339</td>\n      <td>0.132</td>\n      <td>-0.108</td>\n      <td>1.087</td>\n      <td>0.157</td>\n      <td>-0.142</td>\n      <td>287.88733</td>\n      <td>46.276241</td>\n      <td>12.791</td>\n      <td>Positive</td>\n    </tr>\n    <tr>\n      <th>59</th>\n      <td>CANDIDATE</td>\n      <td>0</td>\n      <td>0</td>\n      <td>0</td>\n      <td>0</td>\n      <td>1.626630</td>\n      <td>1.020000e-06</td>\n      <td>-1.020000e-06</td>\n      <td>169.820171</td>\n      <td>0.000487</td>\n      <td>...</td>\n      <td>4.410</td>\n      <td>0.124</td>\n      <td>-0.186</td>\n      <td>0.973</td>\n      <td>0.270</td>\n      <td>-0.145</td>\n      <td>294.36819</td>\n      <td>38.310280</td>\n      <td>15.279</td>\n      <td>Positive</td>\n    </tr>\n  </tbody>\n</table>\n<p>5 rows × 42 columns</p>\n</div>"
     },
     "metadata": {},
     "execution_count": 17
    }
   ],
   "source": [
    "with open('pickle_jar/unknown_df.pickle', 'rb') as hamger_slices:\n",
    "    unknown_df = pickle.load(hamger_slices)\n",
    "predicted = combined_model.predict(minmax_scaler.transform(unknown_df.drop('koi_disposition', axis = 1)))\n",
    "unknown_df['koi_disposition_prediction'] = predicted\n",
    "unknown_df['koi_disposition_prediction'].replace({\n",
    "    'FALSE POSITIVE': 'Negative',\n",
    "    'CONFIRMED': 'Positive'\n",
    "}, inplace= True)\n",
    "unknown_df.to_csv('predicted.csv')"
   ]
  },
  {
   "cell_type": "code",
   "execution_count": null,
   "metadata": {},
   "outputs": [],
   "source": [
    "with open('pickle_jar/combined_model.pickle', 'wb') as gherkin:\n",
    "    pickle.dump(combined_model,gherkin)"
   ]
  }
 ],
 "metadata": {
  "kernel_info": {
   "name": "dev"
  },
  "kernelspec": {
   "name": "python3",
   "display_name": "Python 3",
   "language": "python"
  },
  "language_info": {
   "codemirror_mode": {
    "name": "ipython",
    "version": 3
   },
   "file_extension": ".py",
   "mimetype": "text/x-python",
   "name": "python",
   "nbconvert_exporter": "python",
   "pygments_lexer": "ipython3",
   "version": "3.8.5-final"
  },
  "nteract": {
   "version": "0.12.3"
  }
 },
 "nbformat": 4,
 "nbformat_minor": 2
}