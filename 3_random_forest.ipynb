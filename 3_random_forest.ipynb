{
 "cells": [
  {
   "cell_type": "code",
   "execution_count": 1,
   "metadata": {},
   "outputs": [],
   "source": [
    "import pickle\n",
    "import numpy as np\n",
    "import pandas as pd\n",
    "from sklearn.model_selection import train_test_split\n",
    "from sklearn.ensemble import RandomForestClassifier\n",
    "from sklearn.model_selection import GridSearchCV"
   ]
  },
  {
   "cell_type": "code",
   "execution_count": 2,
   "metadata": {},
   "outputs": [],
   "source": [
    "\n",
    "with open('pickle_jar/split_data.pickle', 'rb') as kosher_dill:\n",
    "    X_train_minmax, X_hp_train_minmax, X_test_minmax, y_train,y_hp_train, y_test = pickle.load(kosher_dill)"
   ]
  },
  {
   "cell_type": "markdown",
   "metadata": {},
   "source": [
    "# Train the Model\n",
    "\n"
   ]
  },
  {
   "cell_type": "code",
   "execution_count": 17,
   "metadata": {},
   "outputs": [
    {
     "output_type": "stream",
     "name": "stdout",
     "text": [
      "Training Data Score: 1.0\nTesting Data Score: 0.9830348727615457\n"
     ]
    }
   ],
   "source": [
    "\n",
    "\n",
    "rf_model = RandomForestClassifier(n_estimators=200, random_state = 0, max_features = 'auto')\n",
    "rf_model = rf_model.fit(X_train_minmax,y_train)\n",
    "\n",
    "print(f\"Training Data Score: {rf_model.score(X_train_minmax, y_train)}\")\n",
    "print(f\"Testing Data Score: {rf_model.score(X_test_minmax, y_test)}\")"
   ]
  },
  {
   "cell_type": "code",
   "execution_count": 13,
   "metadata": {},
   "outputs": [
    {
     "output_type": "stream",
     "name": "stdout",
     "text": [
      "Fitting 7 folds for each of 54 candidates, totalling 378 fits\n",
      "[Parallel(n_jobs=-3)]: Using backend LokyBackend with 6 concurrent workers.\n",
      "[Parallel(n_jobs=-3)]: Done  28 tasks      | elapsed:    1.5s\n",
      "[Parallel(n_jobs=-3)]: Done 146 tasks      | elapsed:    8.9s\n",
      "[Parallel(n_jobs=-3)]: Done 306 tasks      | elapsed:   20.4s\n",
      "[Parallel(n_jobs=-3)]: Done 378 out of 378 | elapsed:   25.7s finished\n"
     ]
    },
    {
     "output_type": "execute_result",
     "data": {
      "text/plain": [
       "GridSearchCV(cv=7,\n",
       "             estimator=RandomForestClassifier(max_depth=10, min_samples_split=3,\n",
       "                                              n_estimators=200, n_jobs=1,\n",
       "                                              random_state=0),\n",
       "             n_jobs=-3,\n",
       "             param_grid={'max_depth': [8, 10, 12], 'min_samples_leaf': [1, 2],\n",
       "                         'min_samples_split': [1, 3, 5],\n",
       "                         'n_estimators': [100, 125, 150]},\n",
       "             verbose=3)"
      ]
     },
     "metadata": {},
     "execution_count": 13
    }
   ],
   "source": [
    "param_grid = {\n",
    "    'max_depth': [8,10,12],\n",
    "    'min_samples_leaf': [1,2],\n",
    "    'min_samples_split': [1,3,5],\n",
    "    'n_estimators': [100,125,150]\n",
    "}\n",
    "grid = GridSearchCV(rf_model, param_grid, verbose=3, cv = 7, n_jobs = -3)\n",
    "grid.fit(X_hp_train_minmax, y_hp_train)"
   ]
  },
  {
   "cell_type": "code",
   "execution_count": 14,
   "metadata": {},
   "outputs": [
    {
     "output_type": "stream",
     "name": "stdout",
     "text": [
      "{'max_depth': 10, 'min_samples_leaf': 1, 'min_samples_split': 3, 'n_estimators': 125}\n0.9708210924662649\n"
     ]
    }
   ],
   "source": [
    "print(grid.best_params_)\n",
    "print(grid.best_score_)"
   ]
  },
  {
   "cell_type": "code",
   "execution_count": 16,
   "metadata": {},
   "outputs": [
    {
     "output_type": "stream",
     "name": "stdout",
     "text": [
      "Training Data Score: 1.0\nTesting Data Score: 0.9811498586239397\n"
     ]
    }
   ],
   "source": [
    "rf_model = RandomForestClassifier(n_estimators=200, random_state = 0, max_features = 'auto', n_jobs=1)\n",
    "rf_model = rf_model.fit(X_train_minmax,y_train)\n",
    "\n",
    "print(f\"Training Data Score: {rf_model.score(X_train_minmax, y_train)}\")\n",
    "print(f\"Testing Data Score: {rf_model.score(X_test_minmax, y_test)}\")"
   ]
  },
  {
   "cell_type": "code",
   "execution_count": 18,
   "metadata": {},
   "outputs": [],
   "source": [
    "import pickle\n",
    "\n",
    "with open('pickle_jar/rf_model.pickle', 'wb') as dill:\n",
    "    pickle.dump(rf_model,dill)"
   ]
  },
  {
   "cell_type": "code",
   "execution_count": null,
   "metadata": {},
   "outputs": [],
   "source": []
  }
 ],
 "metadata": {
  "kernel_info": {
   "name": "dev"
  },
  "kernelspec": {
   "name": "python3",
   "display_name": "Python 3",
   "language": "python"
  },
  "language_info": {
   "codemirror_mode": {
    "name": "ipython",
    "version": 3
   },
   "file_extension": ".py",
   "mimetype": "text/x-python",
   "name": "python",
   "nbconvert_exporter": "python",
   "pygments_lexer": "ipython3",
   "version": "3.8.3-final"
  },
  "nteract": {
   "version": "0.12.3"
  }
 },
 "nbformat": 4,
 "nbformat_minor": 2
}