{
 "cells": [
  {
   "cell_type": "code",
   "execution_count": 1,
   "metadata": {},
   "outputs": [],
   "source": [
    "import pickle\n",
    "import pandas as pd\n",
    "from sklearn.model_selection import train_test_split\n",
    "from sklearn.neighbors import KNeighborsClassifier\n",
    "from sklearn.model_selection import GridSearchCV"
   ]
  },
  {
   "cell_type": "code",
   "execution_count": 2,
   "metadata": {},
   "outputs": [
    {
     "output_type": "execute_result",
     "data": {
      "text/plain": [
       "     koi_disposition  koi_fpflag_nt  koi_fpflag_ss  koi_fpflag_co  \\\n",
       "0          CONFIRMED              0              0              0   \n",
       "1     FALSE POSITIVE              0              1              0   \n",
       "2     FALSE POSITIVE              0              1              0   \n",
       "3          CONFIRMED              0              0              0   \n",
       "4          CONFIRMED              0              0              0   \n",
       "...              ...            ...            ...            ...   \n",
       "6982  FALSE POSITIVE              0              1              0   \n",
       "6983  FALSE POSITIVE              0              1              0   \n",
       "6986  FALSE POSITIVE              0              0              0   \n",
       "6987  FALSE POSITIVE              0              1              1   \n",
       "6989  FALSE POSITIVE              0              0              1   \n",
       "\n",
       "      koi_fpflag_ec  koi_period  koi_period_err1  koi_period_err2  \\\n",
       "0                 0   54.418383     2.479000e-04    -2.479000e-04   \n",
       "1                 0   19.899140     1.490000e-05    -1.490000e-05   \n",
       "2                 0    1.736952     2.630000e-07    -2.630000e-07   \n",
       "3                 0    2.525592     3.760000e-06    -3.760000e-06   \n",
       "4                 0    4.134435     1.050000e-05    -1.050000e-05   \n",
       "...             ...         ...              ...              ...   \n",
       "6982              0    1.012174     2.860000e-06    -2.860000e-06   \n",
       "6983              0   21.513523     2.714000e-04    -2.714000e-04   \n",
       "6986              1    8.589871     1.846000e-04    -1.846000e-04   \n",
       "6987              0    0.527699     1.160000e-07    -1.160000e-07   \n",
       "6989              0    0.681402     2.430000e-06    -2.430000e-06   \n",
       "\n",
       "      koi_time0bk  koi_time0bk_err1  ...  koi_steff_err2  koi_slogg  \\\n",
       "0      162.513840          0.003520  ...             -81      4.467   \n",
       "1      175.850252          0.000581  ...            -176      4.544   \n",
       "2      170.307565          0.000115  ...            -174      4.564   \n",
       "3      171.595550          0.001130  ...            -211      4.438   \n",
       "4      172.979370          0.001900  ...            -232      4.486   \n",
       "...           ...               ...  ...             ...        ...   \n",
       "6982   131.908350          0.003960  ...            -312      4.096   \n",
       "6983   132.335600          0.012200  ...            -141      3.508   \n",
       "6986   132.016100          0.015700  ...            -152      4.296   \n",
       "6987   131.705093          0.000170  ...            -166      4.529   \n",
       "6989   132.181750          0.002850  ...            -236      4.447   \n",
       "\n",
       "      koi_slogg_err1  koi_slogg_err2  koi_srad  koi_srad_err1  koi_srad_err2  \\\n",
       "0              0.064          -0.096     0.927          0.105         -0.061   \n",
       "1              0.044          -0.176     0.868          0.233         -0.078   \n",
       "2              0.053          -0.168     0.791          0.201         -0.067   \n",
       "3              0.070          -0.210     1.046          0.334         -0.133   \n",
       "4              0.054          -0.229     0.972          0.315         -0.105   \n",
       "...              ...             ...       ...            ...            ...   \n",
       "6982           0.209          -0.171     1.716          0.478         -0.478   \n",
       "6983           0.187          -0.153     3.318          0.665         -0.813   \n",
       "6986           0.231          -0.189     1.088          0.313         -0.228   \n",
       "6987           0.035          -0.196     0.903          0.237         -0.079   \n",
       "6989           0.056          -0.224     1.041          0.341         -0.114   \n",
       "\n",
       "             ra        dec  koi_kepmag  \n",
       "0     291.93423  48.141651      15.347  \n",
       "1     297.00482  48.134129      15.436  \n",
       "2     285.53461  48.285210      15.597  \n",
       "3     288.75488  48.226200      15.509  \n",
       "4     296.28613  48.224670      15.714  \n",
       "...         ...        ...         ...  \n",
       "6982  294.10941  44.691078      14.712  \n",
       "6983  287.46786  37.966640      10.630  \n",
       "6986  298.74921  46.973351      14.478  \n",
       "6987  297.18875  47.093819      14.082  \n",
       "6989  294.16489  47.176281      15.385  \n",
       "\n",
       "[5303 rows x 41 columns]"
      ],
      "text/html": "<div>\n<style scoped>\n    .dataframe tbody tr th:only-of-type {\n        vertical-align: middle;\n    }\n\n    .dataframe tbody tr th {\n        vertical-align: top;\n    }\n\n    .dataframe thead th {\n        text-align: right;\n    }\n</style>\n<table border=\"1\" class=\"dataframe\">\n  <thead>\n    <tr style=\"text-align: right;\">\n      <th></th>\n      <th>koi_disposition</th>\n      <th>koi_fpflag_nt</th>\n      <th>koi_fpflag_ss</th>\n      <th>koi_fpflag_co</th>\n      <th>koi_fpflag_ec</th>\n      <th>koi_period</th>\n      <th>koi_period_err1</th>\n      <th>koi_period_err2</th>\n      <th>koi_time0bk</th>\n      <th>koi_time0bk_err1</th>\n      <th>...</th>\n      <th>koi_steff_err2</th>\n      <th>koi_slogg</th>\n      <th>koi_slogg_err1</th>\n      <th>koi_slogg_err2</th>\n      <th>koi_srad</th>\n      <th>koi_srad_err1</th>\n      <th>koi_srad_err2</th>\n      <th>ra</th>\n      <th>dec</th>\n      <th>koi_kepmag</th>\n    </tr>\n  </thead>\n  <tbody>\n    <tr>\n      <th>0</th>\n      <td>CONFIRMED</td>\n      <td>0</td>\n      <td>0</td>\n      <td>0</td>\n      <td>0</td>\n      <td>54.418383</td>\n      <td>2.479000e-04</td>\n      <td>-2.479000e-04</td>\n      <td>162.513840</td>\n      <td>0.003520</td>\n      <td>...</td>\n      <td>-81</td>\n      <td>4.467</td>\n      <td>0.064</td>\n      <td>-0.096</td>\n      <td>0.927</td>\n      <td>0.105</td>\n      <td>-0.061</td>\n      <td>291.93423</td>\n      <td>48.141651</td>\n      <td>15.347</td>\n    </tr>\n    <tr>\n      <th>1</th>\n      <td>FALSE POSITIVE</td>\n      <td>0</td>\n      <td>1</td>\n      <td>0</td>\n      <td>0</td>\n      <td>19.899140</td>\n      <td>1.490000e-05</td>\n      <td>-1.490000e-05</td>\n      <td>175.850252</td>\n      <td>0.000581</td>\n      <td>...</td>\n      <td>-176</td>\n      <td>4.544</td>\n      <td>0.044</td>\n      <td>-0.176</td>\n      <td>0.868</td>\n      <td>0.233</td>\n      <td>-0.078</td>\n      <td>297.00482</td>\n      <td>48.134129</td>\n      <td>15.436</td>\n    </tr>\n    <tr>\n      <th>2</th>\n      <td>FALSE POSITIVE</td>\n      <td>0</td>\n      <td>1</td>\n      <td>0</td>\n      <td>0</td>\n      <td>1.736952</td>\n      <td>2.630000e-07</td>\n      <td>-2.630000e-07</td>\n      <td>170.307565</td>\n      <td>0.000115</td>\n      <td>...</td>\n      <td>-174</td>\n      <td>4.564</td>\n      <td>0.053</td>\n      <td>-0.168</td>\n      <td>0.791</td>\n      <td>0.201</td>\n      <td>-0.067</td>\n      <td>285.53461</td>\n      <td>48.285210</td>\n      <td>15.597</td>\n    </tr>\n    <tr>\n      <th>3</th>\n      <td>CONFIRMED</td>\n      <td>0</td>\n      <td>0</td>\n      <td>0</td>\n      <td>0</td>\n      <td>2.525592</td>\n      <td>3.760000e-06</td>\n      <td>-3.760000e-06</td>\n      <td>171.595550</td>\n      <td>0.001130</td>\n      <td>...</td>\n      <td>-211</td>\n      <td>4.438</td>\n      <td>0.070</td>\n      <td>-0.210</td>\n      <td>1.046</td>\n      <td>0.334</td>\n      <td>-0.133</td>\n      <td>288.75488</td>\n      <td>48.226200</td>\n      <td>15.509</td>\n    </tr>\n    <tr>\n      <th>4</th>\n      <td>CONFIRMED</td>\n      <td>0</td>\n      <td>0</td>\n      <td>0</td>\n      <td>0</td>\n      <td>4.134435</td>\n      <td>1.050000e-05</td>\n      <td>-1.050000e-05</td>\n      <td>172.979370</td>\n      <td>0.001900</td>\n      <td>...</td>\n      <td>-232</td>\n      <td>4.486</td>\n      <td>0.054</td>\n      <td>-0.229</td>\n      <td>0.972</td>\n      <td>0.315</td>\n      <td>-0.105</td>\n      <td>296.28613</td>\n      <td>48.224670</td>\n      <td>15.714</td>\n    </tr>\n    <tr>\n      <th>...</th>\n      <td>...</td>\n      <td>...</td>\n      <td>...</td>\n      <td>...</td>\n      <td>...</td>\n      <td>...</td>\n      <td>...</td>\n      <td>...</td>\n      <td>...</td>\n      <td>...</td>\n      <td>...</td>\n      <td>...</td>\n      <td>...</td>\n      <td>...</td>\n      <td>...</td>\n      <td>...</td>\n      <td>...</td>\n      <td>...</td>\n      <td>...</td>\n      <td>...</td>\n      <td>...</td>\n    </tr>\n    <tr>\n      <th>6982</th>\n      <td>FALSE POSITIVE</td>\n      <td>0</td>\n      <td>1</td>\n      <td>0</td>\n      <td>0</td>\n      <td>1.012174</td>\n      <td>2.860000e-06</td>\n      <td>-2.860000e-06</td>\n      <td>131.908350</td>\n      <td>0.003960</td>\n      <td>...</td>\n      <td>-312</td>\n      <td>4.096</td>\n      <td>0.209</td>\n      <td>-0.171</td>\n      <td>1.716</td>\n      <td>0.478</td>\n      <td>-0.478</td>\n      <td>294.10941</td>\n      <td>44.691078</td>\n      <td>14.712</td>\n    </tr>\n    <tr>\n      <th>6983</th>\n      <td>FALSE POSITIVE</td>\n      <td>0</td>\n      <td>1</td>\n      <td>0</td>\n      <td>0</td>\n      <td>21.513523</td>\n      <td>2.714000e-04</td>\n      <td>-2.714000e-04</td>\n      <td>132.335600</td>\n      <td>0.012200</td>\n      <td>...</td>\n      <td>-141</td>\n      <td>3.508</td>\n      <td>0.187</td>\n      <td>-0.153</td>\n      <td>3.318</td>\n      <td>0.665</td>\n      <td>-0.813</td>\n      <td>287.46786</td>\n      <td>37.966640</td>\n      <td>10.630</td>\n    </tr>\n    <tr>\n      <th>6986</th>\n      <td>FALSE POSITIVE</td>\n      <td>0</td>\n      <td>0</td>\n      <td>0</td>\n      <td>1</td>\n      <td>8.589871</td>\n      <td>1.846000e-04</td>\n      <td>-1.846000e-04</td>\n      <td>132.016100</td>\n      <td>0.015700</td>\n      <td>...</td>\n      <td>-152</td>\n      <td>4.296</td>\n      <td>0.231</td>\n      <td>-0.189</td>\n      <td>1.088</td>\n      <td>0.313</td>\n      <td>-0.228</td>\n      <td>298.74921</td>\n      <td>46.973351</td>\n      <td>14.478</td>\n    </tr>\n    <tr>\n      <th>6987</th>\n      <td>FALSE POSITIVE</td>\n      <td>0</td>\n      <td>1</td>\n      <td>1</td>\n      <td>0</td>\n      <td>0.527699</td>\n      <td>1.160000e-07</td>\n      <td>-1.160000e-07</td>\n      <td>131.705093</td>\n      <td>0.000170</td>\n      <td>...</td>\n      <td>-166</td>\n      <td>4.529</td>\n      <td>0.035</td>\n      <td>-0.196</td>\n      <td>0.903</td>\n      <td>0.237</td>\n      <td>-0.079</td>\n      <td>297.18875</td>\n      <td>47.093819</td>\n      <td>14.082</td>\n    </tr>\n    <tr>\n      <th>6989</th>\n      <td>FALSE POSITIVE</td>\n      <td>0</td>\n      <td>0</td>\n      <td>1</td>\n      <td>0</td>\n      <td>0.681402</td>\n      <td>2.430000e-06</td>\n      <td>-2.430000e-06</td>\n      <td>132.181750</td>\n      <td>0.002850</td>\n      <td>...</td>\n      <td>-236</td>\n      <td>4.447</td>\n      <td>0.056</td>\n      <td>-0.224</td>\n      <td>1.041</td>\n      <td>0.341</td>\n      <td>-0.114</td>\n      <td>294.16489</td>\n      <td>47.176281</td>\n      <td>15.385</td>\n    </tr>\n  </tbody>\n</table>\n<p>5303 rows × 41 columns</p>\n</div>"
     },
     "metadata": {},
     "execution_count": 2
    }
   ],
   "source": [
    "\n",
    "df = pd.read_csv(\"exoplanet_data.csv\")\n",
    "df = df.dropna(axis='columns', how='all')\n",
    "df = df.dropna()\n",
    "unknown_df = df[df['koi_disposition'] == 'CANDIDATE']\n",
    "known_df = df[df['koi_disposition'] != 'CANDIDATE']\n",
    "known_df"
   ]
  },
  {
   "cell_type": "markdown",
   "metadata": {},
   "source": [
    "# Create a Train Test Split\n",
    "\n",
    "Use `koi_disposition` for the y values"
   ]
  },
  {
   "cell_type": "code",
   "execution_count": 3,
   "metadata": {},
   "outputs": [],
   "source": [
    "X = known_df.drop('koi_disposition', axis = 1)\n",
    "X.head()\n",
    "y = known_df['koi_disposition']\n",
    "X_train, X_test, y_train, y_test = train_test_split(X, y , random_state=0, train_size = 0.80)\n",
    "ensemble_split = (X_train, X_test, y_train, y_test)\n",
    "with open('pickle_jar/ensemble_split.pickle', 'wb') as kosher_dill:\n",
    "    pickle.dump(ensemble_split,kosher_dill)\n",
    "#A second split for a Hyperparameter tuning set\n",
    "X_train, X_hp_train, y_train, y_hp_train = train_test_split(X_train, y_train, random_state=0, train_size = 0.75)\n"
   ]
  },
  {
   "cell_type": "markdown",
   "metadata": {},
   "source": [
    "# Pre-processing\n",
    "\n",
    "Scale the data using the MinMaxScaler and perform some feature selection"
   ]
  },
  {
   "cell_type": "code",
   "execution_count": 7,
   "metadata": {},
   "outputs": [],
   "source": [
    "# Scale your data\n",
    "from sklearn.preprocessing import MinMaxScaler\n",
    "from sklearn.preprocessing import MinMaxScaler\n",
    "minmax_scaler = MinMaxScaler().fit(X_train)\n",
    "\n",
    "X_train_minmax = minmax_scaler.transform(X_train)\n",
    "X_hp_train_minmax = minmax_scaler.transform(X_hp_train)\n",
    "X_test_minmax = minmax_scaler.transform(X_test)\n",
    "\n",
    "split_data = (X_train_minmax, X_hp_train_minmax, X_test_minmax, y_train,y_hp_train, y_test)\n",
    "with open('pickle_jar/split_data.pickle', 'wb') as kosher_dill:\n",
    "    pickle.dump(split_data,kosher_dill)\n",
    "\n",
    "with open('pickle_jar/unknown_df.pickle', 'wb') as bread_butter:\n",
    "    pickle.dump(unknown_df,bread_butter)"
   ]
  },
  {
   "cell_type": "markdown",
   "metadata": {},
   "source": [
    "# Train the Model\n",
    "\n"
   ]
  },
  {
   "cell_type": "code",
   "execution_count": 8,
   "metadata": {},
   "outputs": [
    {
     "output_type": "stream",
     "name": "stdout",
     "text": [
      "Training Data Score: 0.9921408362150267\nTesting Data Score: 0.9868049010367578\n"
     ]
    }
   ],
   "source": [
    "### ESP - Model performs better without scaling\n",
    "knn_model = KNeighborsClassifier(n_jobs = -3)\n",
    "knn_model = knn_model.fit(X_train_minmax,y_train)\n",
    "\n",
    "print(f\"Training Data Score: {knn_model.score(X_train_minmax, y_train)}\")\n",
    "print(f\"Testing Data Score: {knn_model.score(X_test_minmax, y_test)}\")"
   ]
  },
  {
   "cell_type": "markdown",
   "metadata": {},
   "source": [
    "# Hyperparameter Tuning\n",
    "\n",
    "Use `GridSearchCV` to tune the model's parameters"
   ]
  },
  {
   "cell_type": "code",
   "execution_count": 10,
   "metadata": {},
   "outputs": [],
   "source": [
    "# Create the GridSearchCV model\n",
    "### ESP - High cv because scores are very close, and I want to make sure I get a representative average\n",
    "\n",
    "param_grid = {'n_neighbors': [2,3,4,5,6,7,8],\n",
    "              'weights': ['uniform','distance'],\n",
    "              'algorithm': ['auto','ball_tree','kd_tree','brute'],\n",
    "              'leaf_size': [25,30,35,40,45],\n",
    "              'p':[1,2,3],\n",
    "              'n_jobs':[1]}\n",
    "grid = GridSearchCV(knn_model, param_grid, verbose=3, cv = 7, n_jobs = -3)"
   ]
  },
  {
   "cell_type": "code",
   "execution_count": 11,
   "metadata": {
    "tags": []
   },
   "outputs": [
    {
     "output_type": "stream",
     "name": "stdout",
     "text": [
      "Fitting 7 folds for each of 840 candidates, totalling 5880 fits\n",
      "[Parallel(n_jobs=-3)]: Using backend LokyBackend with 6 concurrent workers.\n",
      "[Parallel(n_jobs=-3)]: Done  20 tasks      | elapsed:    2.3s\n",
      "[Parallel(n_jobs=-3)]: Done 260 tasks      | elapsed:    6.0s\n",
      "[Parallel(n_jobs=-3)]: Done 900 tasks      | elapsed:   16.7s\n",
      "[Parallel(n_jobs=-3)]: Done 1796 tasks      | elapsed:   32.8s\n",
      "[Parallel(n_jobs=-3)]: Done 2948 tasks      | elapsed:   54.5s\n",
      "[Parallel(n_jobs=-3)]: Done 4356 tasks      | elapsed:  1.3min\n",
      "[Parallel(n_jobs=-3)]: Done 5880 out of 5880 | elapsed:  1.8min finished\n"
     ]
    },
    {
     "output_type": "execute_result",
     "data": {
      "text/plain": [
       "GridSearchCV(cv=7, estimator=KNeighborsClassifier(n_jobs=-3), n_jobs=-3,\n",
       "             param_grid={'algorithm': ['auto', 'ball_tree', 'kd_tree', 'brute'],\n",
       "                         'leaf_size': [25, 30, 35, 40, 45], 'n_jobs': [1],\n",
       "                         'n_neighbors': [2, 3, 4, 5, 6, 7, 8], 'p': [1, 2, 3],\n",
       "                         'weights': ['uniform', 'distance']},\n",
       "             verbose=3)"
      ]
     },
     "metadata": {},
     "execution_count": 11
    }
   ],
   "source": [
    "# Train the model with GridSearch\n",
    "grid.fit(X_hp_train_minmax, y_hp_train)"
   ]
  },
  {
   "cell_type": "code",
   "execution_count": 12,
   "metadata": {},
   "outputs": [
    {
     "output_type": "stream",
     "name": "stdout",
     "text": [
      "{'algorithm': 'auto', 'leaf_size': 25, 'n_jobs': 1, 'n_neighbors': 4, 'p': 1, 'weights': 'uniform'}\n0.9896367574565553\n"
     ]
    }
   ],
   "source": [
    "print(grid.best_params_)\n",
    "print(grid.best_score_)\n"
   ]
  },
  {
   "cell_type": "code",
   "execution_count": 14,
   "metadata": {},
   "outputs": [
    {
     "output_type": "stream",
     "name": "stdout",
     "text": [
      "Training Data Score: 0.9930839358692235\nTesting Data Score: 0.9877474081055608\n"
     ]
    }
   ],
   "source": [
    "knn_model = KNeighborsClassifier(leaf_size = 25, n_neighbors = 4, p = 1, weights = 'uniform')\n",
    "knn_model = knn_model.fit(X_train_minmax,y_train)\n",
    "\n",
    "print(f\"Training Data Score: {knn_model.score(X_train_minmax, y_train)}\")\n",
    "print(f\"Testing Data Score: {knn_model.score(X_test_minmax, y_test)}\")"
   ]
  },
  {
   "cell_type": "markdown",
   "metadata": {},
   "source": [
    "# Save the Model"
   ]
  },
  {
   "cell_type": "code",
   "execution_count": 15,
   "metadata": {},
   "outputs": [],
   "source": [
    "with open('pickle_jar/knn_model.pickle', 'wb') as dill:\n",
    "    pickle.dump(knn_model,dill)"
   ]
  },
  {
   "cell_type": "code",
   "execution_count": null,
   "metadata": {},
   "outputs": [],
   "source": []
  }
 ],
 "metadata": {
  "kernel_info": {
   "name": "dev"
  },
  "kernelspec": {
   "name": "python3",
   "display_name": "Python 3",
   "language": "python"
  },
  "language_info": {
   "codemirror_mode": {
    "name": "ipython",
    "version": 3
   },
   "file_extension": ".py",
   "mimetype": "text/x-python",
   "name": "python",
   "nbconvert_exporter": "python",
   "pygments_lexer": "ipython3",
   "version": "3.8.5-final"
  },
  "nteract": {
   "version": "0.12.3"
  }
 },
 "nbformat": 4,
 "nbformat_minor": 2
}